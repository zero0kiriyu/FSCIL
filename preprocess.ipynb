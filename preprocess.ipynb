{
 "cells": [
  {
   "cell_type": "code",
   "execution_count": 1,
   "id": "cross-killer",
   "metadata": {},
   "outputs": [],
   "source": [
    "import pandas as pd\n",
    "import numpy as np\n",
    "from sklearn import preprocessing"
   ]
  },
  {
   "cell_type": "code",
   "execution_count": 49,
   "id": "plastic-scoop",
   "metadata": {},
   "outputs": [],
   "source": [
    "total = pd.read_csv('total.csv')\n",
    "count = total.groupby('event_subtype')['file'].count()\n",
    "subtype = total['event_subtype'].unique()"
   ]
  },
  {
   "cell_type": "code",
   "execution_count": 158,
   "metadata": {},
   "outputs": [
    {
     "output_type": "execute_result",
     "data": {
      "text/plain": [
       "array(['Transport', 'Elect', 'Start-Position', 'Nominate', 'Attack',\n",
       "       'End-Position', 'Meet', 'Marry', 'Phone-Write', 'Transfer-Money',\n",
       "       'Sue', 'Demonstrate', 'End-Org', 'Injure', 'Die', 'Arrest-Jail',\n",
       "       'Transfer-Ownership', 'Start-Org', 'Execute', 'Trial-Hearing',\n",
       "       'Sentence', 'Be-Born', 'Charge-Indict', 'Convict',\n",
       "       'Declare-Bankruptcy', 'Release-Parole', 'Fine', 'Appeal',\n",
       "       'Merge-Org', 'Extradite', 'Divorce', 'Acquit'], dtype=object)"
      ]
     },
     "metadata": {},
     "execution_count": 158
    }
   ],
   "source": [
    "subtype"
   ]
  },
  {
   "cell_type": "code",
   "execution_count": 50,
   "metadata": {},
   "outputs": [],
   "source": [
    "subtype = np.delete(subtype,np.where(subtype == 'Pardon')[0][0])"
   ]
  },
  {
   "cell_type": "code",
   "execution_count": 51,
   "id": "unlike-bunch",
   "metadata": {},
   "outputs": [],
   "source": [
    "np.random.shuffle(subtype)\n",
    "total_classes = len(subtype)\n",
    "base_classes = 7\n",
    "inc_classes = 5\n",
    "sessions = 1 + (total_classes - base_classes) // inc_classes"
   ]
  },
  {
   "cell_type": "code",
   "execution_count": 52,
   "metadata": {},
   "outputs": [],
   "source": [
    "first_session_subtype = np.array(count[count.index.isin(count.sort_values().index[-7:])].index)\n",
    "subtype = np.setdiff1d(subtype,first_session_subtype)\n",
    "class_split = [(s - 1) * inc_classes + np.arange(inc_classes) for s in range(1, sessions)]\n",
    "sessions_subtype = [subtype[cs] for cs in class_split]"
   ]
  },
  {
   "cell_type": "code",
   "execution_count": 161,
   "metadata": {},
   "outputs": [
    {
     "output_type": "execute_result",
     "data": {
      "text/plain": [
       "[array(['Acquit', 'Appeal', 'Arrest-Jail', 'Be-Born', 'Charge-Indict'],\n",
       "       dtype=object),\n",
       " array(['Convict', 'Declare-Bankruptcy', 'Demonstrate', 'Divorce',\n",
       "        'End-Org'], dtype=object),\n",
       " array(['Execute', 'Extradite', 'Fine', 'Injure', 'Marry'], dtype=object),\n",
       " array(['Merge-Org', 'Nominate', 'Phone-Write', 'Release-Parole',\n",
       "        'Sentence'], dtype=object),\n",
       " array(['Start-Org', 'Start-Position', 'Sue', 'Transfer-Ownership',\n",
       "        'Trial-Hearing'], dtype=object)]"
      ]
     },
     "metadata": {},
     "execution_count": 161
    }
   ],
   "source": [
    "sessions_subtype"
   ]
  },
  {
   "cell_type": "code",
   "execution_count": 53,
   "id": "mysterious-drink",
   "metadata": {},
   "outputs": [],
   "source": [
    "train = None\n",
    "test = None\n",
    "for current_subtype in first_session_subtype:\n",
    "    session_rows = total[total.event_subtype == current_subtype]\n",
    "    mask = np.random.rand(len(session_rows)) < 0.8\n",
    "    train = session_rows[mask] if train is None else pd.concat([train,session_rows[mask]])\n",
    "    test = session_rows[~mask] if test is None else pd.concat([test,session_rows[~mask]])\n",
    "\n",
    "train['session'] = 0\n",
    "test['session'] = 0\n",
    "train['type'] = 'train'\n",
    "test['type'] = 'test'\n",
    "total_labelled = train\n",
    "total_labelled = total_labelled.append(test)"
   ]
  },
  {
   "cell_type": "code",
   "execution_count": 54,
   "metadata": {},
   "outputs": [],
   "source": [
    "session = 1\n",
    "for session_subtype in sessions_subtype:\n",
    "    for current_subtype in session_subtype:\n",
    "        session_rows = total[total.event_subtype == current_subtype]\n",
    "        train = session_rows.sample(5)\n",
    "        test_index = np.setdiff1d(session_rows.index,train.index)\n",
    "        test = session_rows.loc[test_index]\n",
    "\n",
    "        train['session'] = session\n",
    "        test['session'] = session\n",
    "        train['type'] = 'train'\n",
    "        test['type'] = 'test'\n",
    "        total_labelled = total_labelled.append(train).append(test)\n",
    "    session+=1"
   ]
  },
  {
   "cell_type": "code",
   "execution_count": 175,
   "metadata": {},
   "outputs": [],
   "source": [
    "total_labelled.to_csv('total_labelled.csv',index=None)"
   ]
  },
  {
   "cell_type": "code",
   "execution_count": 14,
   "metadata": {},
   "outputs": [],
   "source": [
    "total_labelled = pd.read_csv('total_labelled.csv')\n",
    "\n",
    "le = preprocessing.LabelEncoder()\n",
    "event_subtype = total_labelled['event_subtype'].unique()\n",
    "event_subtype = np.insert(event_subtype,0,'None')\n",
    "le = le.fit(event_subtype)\n",
    "window_size=31"
   ]
  },
  {
   "cell_type": "code",
   "execution_count": 55,
   "metadata": {},
   "outputs": [
    {
     "output_type": "execute_result",
     "data": {
      "text/plain": [
       "array(['None', 'Attack', 'Die', 'Elect', 'End-Position', 'Meet',\n",
       "       'Transfer-Money', 'Transport', 'Acquit', 'Appeal', 'Arrest-Jail',\n",
       "       'Be-Born', 'Charge-Indict', 'Convict', 'Declare-Bankruptcy',\n",
       "       'Demonstrate', 'Divorce', 'End-Org', 'Execute', 'Extradite',\n",
       "       'Fine', 'Injure', 'Marry', 'Merge-Org', 'Nominate', 'Phone-Write',\n",
       "       'Release-Parole', 'Sentence', 'Start-Org', 'Start-Position', 'Sue',\n",
       "       'Transfer-Ownership', 'Trial-Hearing'], dtype=object)"
      ]
     },
     "metadata": {},
     "execution_count": 55
    }
   ],
   "source": [
    "train = total_labelled[total_labelled.type == 'train']\n",
    "test = total_labelled[total_labelled.type == 'test']\n",
    "event_subtype"
   ]
  },
  {
   "cell_type": "code",
   "execution_count": 8,
   "metadata": {},
   "outputs": [
    {
     "output_type": "execute_result",
     "data": {
      "text/plain": [
       "array(['Attack', 'Die', 'Elect', 'End-Position', 'Meet', 'Transfer-Money',\n",
       "       'Transport', 'Acquit', 'Appeal', 'Arrest-Jail', 'Be-Born',\n",
       "       'Charge-Indict', 'Convict', 'Declare-Bankruptcy', 'Demonstrate',\n",
       "       'Divorce', 'End-Org', 'Execute', 'Extradite', 'Fine', 'Injure',\n",
       "       'Marry', 'Merge-Org', 'Nominate', 'Phone-Write', 'Release-Parole',\n",
       "       'Sentence', 'Start-Org', 'Start-Position', 'Sue',\n",
       "       'Transfer-Ownership', 'Trial-Hearing'], dtype=object)"
      ]
     },
     "metadata": {},
     "execution_count": 8
    }
   ],
   "source": [
    "total_labelled['event_subtype'].unique()"
   ]
  },
  {
   "cell_type": "code",
   "execution_count": 21,
   "metadata": {},
   "outputs": [
    {
     "output_type": "execute_result",
     "data": {
      "text/plain": [
       "606"
      ]
     },
     "metadata": {},
     "execution_count": 21
    }
   ],
   "source": [
    "ind"
   ]
  },
  {
   "cell_type": "code",
   "execution_count": 56,
   "metadata": {},
   "outputs": [
    {
     "output_type": "stream",
     "name": "stderr",
     "text": [
      "/usr/local/anaconda3/envs/science/lib/python3.8/site-packages/pandas/core/indexing.py:1720: SettingWithCopyWarning: \nA value is trying to be set on a copy of a slice from a DataFrame.\nTry using .loc[row_indexer,col_indexer] = value instead\n\nSee the caveats in the documentation: https://pandas.pydata.org/pandas-docs/stable/user_guide/indexing.html#returning-a-view-versus-a-copy\n  self._setitem_single_column(loc, value, pi)\n/usr/local/anaconda3/envs/science/lib/python3.8/site-packages/pandas/core/indexing.py:1599: SettingWithCopyWarning: \nA value is trying to be set on a copy of a slice from a DataFrame.\nTry using .loc[row_indexer,col_indexer] = value instead\n\nSee the caveats in the documentation: https://pandas.pydata.org/pandas-docs/stable/user_guide/indexing.html#returning-a-view-versus-a-copy\n  self.obj[key] = infer_fill_value(value)\n"
     ]
    }
   ],
   "source": [
    "\n",
    "for ind, row in train.iterrows():\n",
    "    trigger_first_tokens = row['trigger'].split()[0]\n",
    "    trigger_text_first_end = row['trigger_text_start'] + len(trigger_first_tokens)\n",
    "    \n",
    "    index = -1\n",
    "    tokens = []\n",
    "    token=''\n",
    "    pre_char = ''\n",
    "    for count,char in enumerate(row['text']):\n",
    "        if pre_char != ' ':\n",
    "            if (char == ' ' or (count+1) == len(row['text'])):\n",
    "                if (count+1) == len(row['text']):\n",
    "                    token += char\n",
    "                tokens += [token]\n",
    "                if (trigger_first_tokens in token or token in trigger_first_tokens) and abs(count-trigger_text_first_end) < 10:\n",
    "                    index = len(tokens) - 1\n",
    "                    break\n",
    "                token = ''\n",
    "        if char != ' ':\n",
    "            token += char\n",
    "        pre_char = char\n",
    "    if index == -1:\n",
    "        print('error')\n",
    "        break\n",
    "\n",
    "    tokens = row['text'].split()\n",
    "\n",
    "    left_index = max(0,index - int((window_size-1)/2))\n",
    "    right_index = index+int((window_size-1)/2) +1 #超过也没关系\n",
    "    \n",
    "    \n",
    "    text_windows = tokens[left_index:right_index]\n",
    "    if len(text_windows)!=window_size:#需要padding\n",
    "        left_pad_num = (window_size -1)/2- index - left_index\n",
    "        text_windows = ['<pad>'] * int(left_pad_num) + text_windows\n",
    "        text_windows = text_windows + ['<pad>'] * (window_size - len(text_windows))\n",
    "    \n",
    "    if (text_windows[15] in trigger_first_tokens) or (trigger_first_tokens in text_windows[15]):\n",
    "        pass\n",
    "    else:\n",
    "        print('error2')\n",
    "        break\n",
    "    \n",
    "    train.loc[ind,'text'] = ','.join(text_windows)\n",
    "    #train.loc[ind,'text'] = ','.join([str(TEXT.vocab.stoi[i]) for i in text_windows])\n",
    "    train.loc[ind,'label'] = str(le.transform([row['event_subtype']]).item())\n",
    "    #train.loc[ind,'label'] = ','.join([str(le.transform([row['event_subtype']]).item())] * len(row['trigger'].split()))"
   ]
  },
  {
   "cell_type": "code",
   "execution_count": 59,
   "metadata": {},
   "outputs": [
    {
     "output_type": "stream",
     "name": "stderr",
     "text": [
      "/usr/local/anaconda3/envs/science/lib/python3.8/site-packages/pandas/core/indexing.py:1720: SettingWithCopyWarning: \nA value is trying to be set on a copy of a slice from a DataFrame.\nTry using .loc[row_indexer,col_indexer] = value instead\n\nSee the caveats in the documentation: https://pandas.pydata.org/pandas-docs/stable/user_guide/indexing.html#returning-a-view-versus-a-copy\n  self._setitem_single_column(loc, value, pi)\n/usr/local/anaconda3/envs/science/lib/python3.8/site-packages/pandas/core/indexing.py:1599: SettingWithCopyWarning: \nA value is trying to be set on a copy of a slice from a DataFrame.\nTry using .loc[row_indexer,col_indexer] = value instead\n\nSee the caveats in the documentation: https://pandas.pydata.org/pandas-docs/stable/user_guide/indexing.html#returning-a-view-versus-a-copy\n  self.obj[key] = infer_fill_value(value)\n"
     ]
    }
   ],
   "source": [
    "for ind, row in test.iterrows():\n",
    "    trigger_first_tokens = row['trigger'].split()[0]\n",
    "    trigger_text_first_end = row['trigger_text_start'] + len(trigger_first_tokens)\n",
    "    index = -1\n",
    "    tokens = []\n",
    "    token=''\n",
    "    pre_char = ''\n",
    "    for count,char in enumerate(row['text']):\n",
    "        if pre_char != ' ':\n",
    "            if (char == ' ' or (count+1) == len(row['text'])):\n",
    "                if (count+1) == len(row['text']):\n",
    "                    token += char\n",
    "                tokens += [token]\n",
    "                if (trigger_first_tokens in token or token in trigger_first_tokens) and abs(count-trigger_text_first_end) < 10:\n",
    "                    index = len(tokens) - 1\n",
    "                    break\n",
    "                token = ''\n",
    "        if char != ' ':\n",
    "            token += char\n",
    "        pre_char = char\n",
    "    if index == -1:\n",
    "        print('error')\n",
    "        break\n",
    "\n",
    "    tokens = row['text'].split()\n",
    "\n",
    "    left_index = max(0,index - int((window_size-1)/2))\n",
    "    right_index = index+int((window_size-1)/2) +1 #超过也没关系\n",
    "    \n",
    "    \n",
    "    text_windows = tokens[left_index:right_index]\n",
    "    if len(text_windows)!=window_size:#需要padding\n",
    "        left_pad_num = (window_size -1)/2- index - left_index\n",
    "        text_windows = ['<pad>'] * int(left_pad_num) + text_windows\n",
    "        text_windows = text_windows + ['<pad>'] * (window_size - len(text_windows))\n",
    "    \n",
    "    if (text_windows[15] in trigger_first_tokens) or (trigger_first_tokens in text_windows[15]):\n",
    "        pass\n",
    "    else:\n",
    "        print('error2')\n",
    "        break\n",
    "    \n",
    "    test.loc[ind,'text'] = ','.join(text_windows)\n",
    "    test.loc[ind,'label'] = str(le.transform([row['event_subtype']]).item())"
   ]
  },
  {
   "cell_type": "code",
   "execution_count": 12,
   "metadata": {},
   "outputs": [],
   "source": [
    "train_large = train[train.session == 0]\n",
    "train_fewshot = train[train.session != 0]\n",
    "train_large.to_csv('train_large.csv',index=False)\n",
    "train_fewshot.to_csv('train_fewshot.csv',index=False)\n",
    "\n",
    "test[['text','label','session']].to_csv('test.csv',index=False)\n"
   ]
  },
  {
   "cell_type": "code",
   "execution_count": null,
   "metadata": {},
   "outputs": [],
   "source": []
  }
 ],
 "metadata": {
  "kernelspec": {
   "name": "python388jvsc74a57bd04e565a553f81b2e329ec653083fe794b4c021084f2f644610a3d35202f2aa57b",
   "display_name": "Python 3.8.8 64-bit ('science': conda)"
  },
  "language_info": {
   "codemirror_mode": {
    "name": "ipython",
    "version": 3
   },
   "file_extension": ".py",
   "mimetype": "text/x-python",
   "name": "python",
   "nbconvert_exporter": "python",
   "pygments_lexer": "ipython3",
   "version": "3.8.8"
  }
 },
 "nbformat": 4,
 "nbformat_minor": 5
}