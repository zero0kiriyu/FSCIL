{
 "cells": [
  {
   "cell_type": "code",
   "execution_count": 1,
   "id": "cross-killer",
   "metadata": {},
   "outputs": [],
   "source": [
    "import pandas as pd\n",
    "import numpy as np\n"
   ]
  },
  {
   "cell_type": "code",
   "execution_count": 155,
   "id": "plastic-scoop",
   "metadata": {},
   "outputs": [],
   "source": [
    "total = pd.read_csv('total.csv')\n",
    "count = total.groupby('event_subtype')['file'].count()\n",
    "subtype = total['event_subtype'].unique()"
   ]
  },
  {
   "cell_type": "code",
   "execution_count": 158,
   "metadata": {},
   "outputs": [
    {
     "output_type": "execute_result",
     "data": {
      "text/plain": [
       "array(['Transport', 'Elect', 'Start-Position', 'Nominate', 'Attack',\n",
       "       'End-Position', 'Meet', 'Marry', 'Phone-Write', 'Transfer-Money',\n",
       "       'Sue', 'Demonstrate', 'End-Org', 'Injure', 'Die', 'Arrest-Jail',\n",
       "       'Transfer-Ownership', 'Start-Org', 'Execute', 'Trial-Hearing',\n",
       "       'Sentence', 'Be-Born', 'Charge-Indict', 'Convict',\n",
       "       'Declare-Bankruptcy', 'Release-Parole', 'Fine', 'Appeal',\n",
       "       'Merge-Org', 'Extradite', 'Divorce', 'Acquit'], dtype=object)"
      ]
     },
     "metadata": {},
     "execution_count": 158
    }
   ],
   "source": [
    "subtype"
   ]
  },
  {
   "cell_type": "code",
   "execution_count": 157,
   "metadata": {},
   "outputs": [],
   "source": [
    "subtype = np.delete(subtype,np.where(subtype == 'Pardon')[0][0])"
   ]
  },
  {
   "cell_type": "code",
   "execution_count": 159,
   "id": "unlike-bunch",
   "metadata": {},
   "outputs": [],
   "source": [
    "np.random.shuffle(subtype)\n",
    "total_classes = len(subtype)\n",
    "base_classes = 7\n",
    "inc_classes = 5\n",
    "sessions = 1 + (total_classes - base_classes) // inc_classes"
   ]
  },
  {
   "cell_type": "code",
   "execution_count": 160,
   "metadata": {},
   "outputs": [],
   "source": [
    "first_session_subtype = np.array(count[count.index.isin(count.sort_values().index[-7:])].index)\n",
    "subtype = np.setdiff1d(subtype,first_session_subtype)\n",
    "class_split = [(s - 1) * inc_classes + np.arange(inc_classes) for s in range(1, sessions)]\n",
    "sessions_subtype = [subtype[cs] for cs in class_split]"
   ]
  },
  {
   "cell_type": "code",
   "execution_count": 161,
   "metadata": {},
   "outputs": [
    {
     "output_type": "execute_result",
     "data": {
      "text/plain": [
       "[array(['Acquit', 'Appeal', 'Arrest-Jail', 'Be-Born', 'Charge-Indict'],\n",
       "       dtype=object),\n",
       " array(['Convict', 'Declare-Bankruptcy', 'Demonstrate', 'Divorce',\n",
       "        'End-Org'], dtype=object),\n",
       " array(['Execute', 'Extradite', 'Fine', 'Injure', 'Marry'], dtype=object),\n",
       " array(['Merge-Org', 'Nominate', 'Phone-Write', 'Release-Parole',\n",
       "        'Sentence'], dtype=object),\n",
       " array(['Start-Org', 'Start-Position', 'Sue', 'Transfer-Ownership',\n",
       "        'Trial-Hearing'], dtype=object)]"
      ]
     },
     "metadata": {},
     "execution_count": 161
    }
   ],
   "source": [
    "sessions_subtype"
   ]
  },
  {
   "cell_type": "code",
   "execution_count": 162,
   "id": "mysterious-drink",
   "metadata": {},
   "outputs": [],
   "source": [
    "train = None\n",
    "test = None\n",
    "for current_subtype in first_session_subtype:\n",
    "    session_rows = total[total.event_subtype == current_subtype]\n",
    "    mask = np.random.rand(len(session_rows)) < 0.8\n",
    "    train = session_rows[mask] if train is None else pd.concat([train,session_rows[mask]])\n",
    "    test = session_rows[~mask] if test is None else pd.concat([test,session_rows[~mask]])\n",
    "\n",
    "train['session'] = 0\n",
    "test['session'] = 0\n",
    "train['type'] = 'train'\n",
    "test['type'] = 'test'\n",
    "total_labelled = train\n",
    "total_labelled = total_labelled.append(test)"
   ]
  },
  {
   "cell_type": "code",
   "execution_count": 163,
   "metadata": {},
   "outputs": [],
   "source": [
    "session = 1\n",
    "for session_subtype in sessions_subtype:\n",
    "    for current_subtype in session_subtype:\n",
    "        session_rows = total[total.event_subtype == current_subtype]\n",
    "        train = session_rows.sample(5)\n",
    "        test_index = np.setdiff1d(session_rows.index,train.index)\n",
    "        test = session_rows.loc[test_index]\n",
    "\n",
    "        train['session'] = session\n",
    "        test['session'] = session\n",
    "        train['type'] = 'train'\n",
    "        test['type'] = 'test'\n",
    "        total_labelled = total_labelled.append(train).append(test)\n",
    "    session+=1"
   ]
  },
  {
   "cell_type": "code",
   "execution_count": 175,
   "metadata": {},
   "outputs": [],
   "source": [
    "total_labelled.to_csv('total_labelled.csv',index=None)"
   ]
  },
  {
   "cell_type": "code",
   "execution_count": 2,
   "metadata": {},
   "outputs": [],
   "source": [
    "total_labelled = pd.read_csv('total_labelled.csv')"
   ]
  },
  {
   "cell_type": "code",
   "execution_count": 4,
   "metadata": {},
   "outputs": [],
   "source": [
    "train = total_labelled[total_labelled.type == 'train']\n",
    "test = total_labelled[total_labelled.type == 'test']"
   ]
  },
  {
   "cell_type": "code",
   "execution_count": 5,
   "metadata": {},
   "outputs": [],
   "source": [
    "train.to_csv('train.csv',index=None)\n",
    "test.to_csv('test.csv',index=None)"
   ]
  },
  {
   "cell_type": "code",
   "execution_count": null,
   "metadata": {},
   "outputs": [],
   "source": []
  }
 ],
 "metadata": {
  "kernelspec": {
   "name": "python388jvsc74a57bd04e565a553f81b2e329ec653083fe794b4c021084f2f644610a3d35202f2aa57b",
   "display_name": "Python 3.8.8 64-bit ('science': conda)"
  },
  "language_info": {
   "codemirror_mode": {
    "name": "ipython",
    "version": 3
   },
   "file_extension": ".py",
   "mimetype": "text/x-python",
   "name": "python",
   "nbconvert_exporter": "python",
   "pygments_lexer": "ipython3",
   "version": "3.8.8"
  }
 },
 "nbformat": 4,
 "nbformat_minor": 5
}